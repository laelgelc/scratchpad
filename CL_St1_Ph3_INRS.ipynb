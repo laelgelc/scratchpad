{
 "cells": [
  {
   "cell_type": "markdown",
   "id": "810d9f10-ec19-4b09-8f90-e983e460b319",
   "metadata": {
    "jp-MarkdownHeadingCollapsed": true
   },
   "source": [
    "<center>\n",
    "<img src=\"https://laelgelcpublic.s3.sa-east-1.amazonaws.com/lael_50_years_narrow_white.png.no_years.400px_96dpi.png\" width=\"300\" alt=\"LAEL 50 years logo\">\n",
    "<h3>APPLIED LINGUISTICS GRADUATE PROGRAMME (LAEL)</h3>\n",
    "</center>\n",
    "<hr>"
   ]
  },
  {
   "cell_type": "markdown",
   "id": "888c2c96-2fc3-4a1a-995b-c388036a2a15",
   "metadata": {},
   "source": [
    "# Corpus Linguistics - Study 1 - Phase 3 - INRS"
   ]
  },
  {
   "cell_type": "markdown",
   "id": "0f3ad8a7-2d34-476b-be69-5d896b27d3ed",
   "metadata": {},
   "source": [
    "## Prerequisites"
   ]
  },
  {
   "cell_type": "markdown",
   "id": "0f1209cf-0515-45b3-8856-275ac692943e",
   "metadata": {},
   "source": [
    "Make sure the prerequisites in [CL_LMDA_prerequisites](https://github.com/laelgelc/laelgelc/blob/main/CL_LMDA_prerequisites.ipynb) are satisfied."
   ]
  },
  {
   "cell_type": "markdown",
   "id": "28897518-a858-4dc5-b510-49c9131da966",
   "metadata": {},
   "source": [
    "## Dataset"
   ]
  },
  {
   "cell_type": "markdown",
   "id": "a6f58941-1578-42c0-8933-d8ebef369245",
   "metadata": {},
   "source": [
    "Please download the following dataset (Right-click on the link and choose `Save link as` to download the corresponding file):\n",
    "- [CL_St1_Ph2_INRS.tar.gz](https://github.com/laelgelc/cl_st1_inrs/blob/main/CL_St1_Ph2_INRS.tar.gz)"
   ]
  },
  {
   "cell_type": "markdown",
   "id": "7a9c2af7-9fc1-4f51-a4f5-2ed915b93039",
   "metadata": {},
   "source": [
    "## Importing the required libraries"
   ]
  },
  {
   "cell_type": "code",
   "execution_count": 1,
   "id": "e6689499-d19d-4b0c-befd-f88926b7105d",
   "metadata": {},
   "outputs": [],
   "source": [
    "import pandas as pd\n",
    "import demoji\n",
    "import re\n",
    "import os\n",
    "from collections import Counter"
   ]
  },
  {
   "cell_type": "markdown",
   "id": "9a79a002-c182-4021-9b77-99ad470582af",
   "metadata": {},
   "source": [
    "## Data wrangling"
   ]
  },
  {
   "cell_type": "markdown",
   "id": "66e37aae-8cee-42ca-91ff-10f882fc45c6",
   "metadata": {},
   "source": [
    "### Importing the tweet raw data into a dataframe"
   ]
  },
  {
   "cell_type": "markdown",
   "id": "e97764a0-3314-455e-8387-20df5d460af7",
   "metadata": {},
   "source": [
    "#### Alternative 1 - Importing data as `JSONL`"
   ]
  },
  {
   "cell_type": "code",
   "execution_count": 2,
   "id": "82eab174-e617-4c7d-8564-61ad93854132",
   "metadata": {},
   "outputs": [],
   "source": [
    "df_tweets_raw_data = pd.read_json('cl_st1_inrs_tc/debates_turns.jsonl', lines=True)"
   ]
  },
  {
   "cell_type": "code",
   "execution_count": 3,
   "id": "acc14dcd-c413-4aa8-baca-c2774287cada",
   "metadata": {},
   "outputs": [
    {
     "data": {
      "text/plain": [
       "Title           object\n",
       "Debate          object\n",
       "Date             int64\n",
       "Participants    object\n",
       "Moderators      object\n",
       "Speaker         object\n",
       "Text            object\n",
       "dtype: object"
      ]
     },
     "execution_count": 3,
     "metadata": {},
     "output_type": "execute_result"
    }
   ],
   "source": [
    "df_tweets_raw_data.dtypes"
   ]
  },
  {
   "cell_type": "markdown",
   "id": "110fc4c7-fc92-4300-abb1-c6fea2a812c7",
   "metadata": {},
   "source": [
    "When a DataFrame with a `datetime64[ns]` column is exported to `JSONL`, the dates are converted to UNIX timestamps (milliseconds since the epoch). When you import the JSONL file back into a DataFrame, these timestamps are read as integers. To convert these integers back to `datetime64[ns]` format, you can use the `pd.to_datetime()` function with the `unit` parameter set to 'ms' (milliseconds)."
   ]
  },
  {
   "cell_type": "code",
   "execution_count": 4,
   "id": "e8677bae-66d5-44ec-b281-7c2adfc2edf8",
   "metadata": {},
   "outputs": [],
   "source": [
    "df_tweets_raw_data['Date'] = pd.to_datetime(df_tweets_raw_data['Date'], unit='ms')"
   ]
  },
  {
   "cell_type": "code",
   "execution_count": 5,
   "id": "3fc0ad6f-7fbe-4d8a-8ef7-0aaa390b923d",
   "metadata": {},
   "outputs": [
    {
     "data": {
      "text/plain": [
       "Title                   object\n",
       "Debate                  object\n",
       "Date            datetime64[ns]\n",
       "Participants            object\n",
       "Moderators              object\n",
       "Speaker                 object\n",
       "Text                    object\n",
       "dtype: object"
      ]
     },
     "execution_count": 5,
     "metadata": {},
     "output_type": "execute_result"
    }
   ],
   "source": [
    "df_tweets_raw_data.dtypes"
   ]
  },
  {
   "cell_type": "code",
   "execution_count": 6,
   "id": "31a6fbd7-2a96-4482-a50a-9abbce66e264",
   "metadata": {},
   "outputs": [
    {
     "data": {
      "text/html": [
       "<div>\n",
       "<style scoped>\n",
       "    .dataframe tbody tr th:only-of-type {\n",
       "        vertical-align: middle;\n",
       "    }\n",
       "\n",
       "    .dataframe tbody tr th {\n",
       "        vertical-align: top;\n",
       "    }\n",
       "\n",
       "    .dataframe thead th {\n",
       "        text-align: right;\n",
       "    }\n",
       "</style>\n",
       "<table border=\"1\" class=\"dataframe\">\n",
       "  <thead>\n",
       "    <tr style=\"text-align: right;\">\n",
       "      <th></th>\n",
       "      <th>Title</th>\n",
       "      <th>Debate</th>\n",
       "      <th>Date</th>\n",
       "      <th>Participants</th>\n",
       "      <th>Moderators</th>\n",
       "      <th>Speaker</th>\n",
       "      <th>Text</th>\n",
       "    </tr>\n",
       "  </thead>\n",
       "  <tbody>\n",
       "    <tr>\n",
       "      <th>0</th>\n",
       "      <td>September 29, 2020 Debate Transcript</td>\n",
       "      <td>Presidential Debate at Case Western Reserve Un...</td>\n",
       "      <td>2020-09-29</td>\n",
       "      <td>Former Vice President Joe Biden (D) and Presid...</td>\n",
       "      <td>Chris Wallace (Fox News)</td>\n",
       "      <td>TRUMP</td>\n",
       "      <td>Thank you very much, Chris. I will tell you ve...</td>\n",
       "    </tr>\n",
       "    <tr>\n",
       "      <th>1</th>\n",
       "      <td>September 29, 2020 Debate Transcript</td>\n",
       "      <td>Presidential Debate at Case Western Reserve Un...</td>\n",
       "      <td>2020-09-29</td>\n",
       "      <td>Former Vice President Joe Biden (D) and Presid...</td>\n",
       "      <td>Chris Wallace (Fox News)</td>\n",
       "      <td>BIDEN</td>\n",
       "      <td>Well, first of all, thank you for doing this a...</td>\n",
       "    </tr>\n",
       "    <tr>\n",
       "      <th>2</th>\n",
       "      <td>September 29, 2020 Debate Transcript</td>\n",
       "      <td>Presidential Debate at Case Western Reserve Un...</td>\n",
       "      <td>2020-09-29</td>\n",
       "      <td>Former Vice President Joe Biden (D) and Presid...</td>\n",
       "      <td>Chris Wallace (Fox News)</td>\n",
       "      <td>BIDEN</td>\n",
       "      <td>The American people have a right to have a say...</td>\n",
       "    </tr>\n",
       "    <tr>\n",
       "      <th>3</th>\n",
       "      <td>September 29, 2020 Debate Transcript</td>\n",
       "      <td>Presidential Debate at Case Western Reserve Un...</td>\n",
       "      <td>2020-09-29</td>\n",
       "      <td>Former Vice President Joe Biden (D) and Presid...</td>\n",
       "      <td>Chris Wallace (Fox News)</td>\n",
       "      <td>TRUMP</td>\n",
       "      <td>There aren’t a hundred million people with pre...</td>\n",
       "    </tr>\n",
       "    <tr>\n",
       "      <th>4</th>\n",
       "      <td>September 29, 2020 Debate Transcript</td>\n",
       "      <td>Presidential Debate at Case Western Reserve Un...</td>\n",
       "      <td>2020-09-29</td>\n",
       "      <td>Former Vice President Joe Biden (D) and Presid...</td>\n",
       "      <td>Chris Wallace (Fox News)</td>\n",
       "      <td>TRUMP</td>\n",
       "      <td>During that period of time, during that period...</td>\n",
       "    </tr>\n",
       "  </tbody>\n",
       "</table>\n",
       "</div>"
      ],
      "text/plain": [
       "                                  Title  \\\n",
       "0  September 29, 2020 Debate Transcript   \n",
       "1  September 29, 2020 Debate Transcript   \n",
       "2  September 29, 2020 Debate Transcript   \n",
       "3  September 29, 2020 Debate Transcript   \n",
       "4  September 29, 2020 Debate Transcript   \n",
       "\n",
       "                                              Debate       Date  \\\n",
       "0  Presidential Debate at Case Western Reserve Un... 2020-09-29   \n",
       "1  Presidential Debate at Case Western Reserve Un... 2020-09-29   \n",
       "2  Presidential Debate at Case Western Reserve Un... 2020-09-29   \n",
       "3  Presidential Debate at Case Western Reserve Un... 2020-09-29   \n",
       "4  Presidential Debate at Case Western Reserve Un... 2020-09-29   \n",
       "\n",
       "                                        Participants  \\\n",
       "0  Former Vice President Joe Biden (D) and Presid...   \n",
       "1  Former Vice President Joe Biden (D) and Presid...   \n",
       "2  Former Vice President Joe Biden (D) and Presid...   \n",
       "3  Former Vice President Joe Biden (D) and Presid...   \n",
       "4  Former Vice President Joe Biden (D) and Presid...   \n",
       "\n",
       "                 Moderators Speaker  \\\n",
       "0  Chris Wallace (Fox News)   TRUMP   \n",
       "1  Chris Wallace (Fox News)   BIDEN   \n",
       "2  Chris Wallace (Fox News)   BIDEN   \n",
       "3  Chris Wallace (Fox News)   TRUMP   \n",
       "4  Chris Wallace (Fox News)   TRUMP   \n",
       "\n",
       "                                                Text  \n",
       "0  Thank you very much, Chris. I will tell you ve...  \n",
       "1  Well, first of all, thank you for doing this a...  \n",
       "2  The American people have a right to have a say...  \n",
       "3  There aren’t a hundred million people with pre...  \n",
       "4  During that period of time, during that period...  "
      ]
     },
     "execution_count": 6,
     "metadata": {},
     "output_type": "execute_result"
    }
   ],
   "source": [
    "df_tweets_raw_data.head(5)"
   ]
  },
  {
   "cell_type": "markdown",
   "id": "bc9ca09b-d32f-451e-a88f-1ce44bdb0924",
   "metadata": {},
   "source": [
    "#### Alternative 2 - Importing data as `TSV`"
   ]
  },
  {
   "cell_type": "markdown",
   "id": "fc25afcc-14c5-4db9-93c2-894e170ee371",
   "metadata": {},
   "source": [
    "```\n",
    "df_tweets_raw_data = pd.read_csv('cl_st1_inrs_tc/debates_turns.tsv', sep='\\t')\n",
    "```"
   ]
  },
  {
   "cell_type": "markdown",
   "id": "89984c83-0e7a-457d-b107-6c29043c9ec6",
   "metadata": {},
   "source": [
    "```\n",
    "df_tweets_raw_data.dtypes\n",
    "```"
   ]
  },
  {
   "cell_type": "markdown",
   "id": "f3490dcd-6f9a-4b3e-a193-6566d3c7eb30",
   "metadata": {},
   "source": [
    "The 'Date' column is imported as 'object' ('string') data type - it should be converted to `datetime64[ns]` format."
   ]
  },
  {
   "cell_type": "markdown",
   "id": "1a69f0a2-69b8-4b38-9b9d-7c7cbce443c7",
   "metadata": {},
   "source": [
    "```\n",
    "df_tweets_raw_data['Date'] = pd.to_datetime(df_tweets_raw_data['Date'])\n",
    "#df_tweets_raw_data['Date'] = df_tweets_raw_data['Date'].astype('datetime64[ns]') # Alternative command\n",
    "```"
   ]
  },
  {
   "cell_type": "markdown",
   "id": "df07a4e9-6a0b-423a-99be-868fa8bfed31",
   "metadata": {},
   "source": [
    "```\n",
    "df_tweets_raw_data.dtypes\n",
    "```"
   ]
  },
  {
   "cell_type": "markdown",
   "id": "75a34042-8786-43e9-8f2f-27ac1f2cf0c5",
   "metadata": {
    "scrolled": true
   },
   "source": [
    "```\n",
    "df_tweets_raw_data.head(5)\n",
    "```"
   ]
  },
  {
   "cell_type": "code",
   "execution_count": 7,
   "id": "5ff51e89-954d-422e-a0ac-dd5d2867bc48",
   "metadata": {},
   "outputs": [
    {
     "data": {
      "text/plain": [
       "(3478, 7)"
      ]
     },
     "execution_count": 7,
     "metadata": {},
     "output_type": "execute_result"
    }
   ],
   "source": [
    "df_tweets_raw_data.shape"
   ]
  },
  {
   "cell_type": "markdown",
   "id": "03bd2975-f291-4fdb-9c2f-51dd6b8c269d",
   "metadata": {},
   "source": [
    "#### Inspecting a few tweets"
   ]
  },
  {
   "cell_type": "code",
   "execution_count": 8,
   "id": "6109d2f2-4cd1-43ce-86fe-7fb7f1ff8910",
   "metadata": {},
   "outputs": [
    {
     "name": "stdout",
     "output_type": "stream",
     "text": [
      "Speaker:TRUMP\n",
      "Text:Thank you very much, Chris. I will tell you very simply. We won the election. Elections have consequences. We have the Senate, we have the White House, and we have a phenomenal nominee respected by all. Top, top academic, good in every way. Good in every way. In fact, some of her biggest endorsers are very liberal people from Notre Dame and other places. So I think she’s going to be fantastic. We have plenty of time. Even if we did it after the election itself. I have a lot of time after the election, as you know. So I think that she will be outstanding. She’s going to be as good as anybody that has served on that court. We really feel that. We have a professor at Notre Dame, highly respected by all, said she’s the single greatest student he’s ever had. He’s been a professor for a long time at a great school. And we won the election and therefore we have the right to choose her, and very few people knowingly would say otherwise. And by the way, the Democrats, they wouldn’t even think about not doing it. The only difference is they’d try and do it faster. There’s no way they would give it up. They had Merrick Garland, but the problem is they didn’t have the election so they were stopped. And probably that would happen in reverse, also. Definitely would happen in reverse. So we won the election and we have the right to do it, Chris.\n"
     ]
    }
   ],
   "source": [
    "inspected_row = 0\n",
    "print('Speaker:' + df_tweets_raw_data.loc[inspected_row, 'Speaker'])\n",
    "print('Text:' + df_tweets_raw_data.loc[inspected_row, 'Text'])"
   ]
  },
  {
   "cell_type": "markdown",
   "id": "c0db3847-c807-4504-9324-b114074300f8",
   "metadata": {},
   "source": [
    "## Sampling the raw data according to filtering expressions"
   ]
  },
  {
   "cell_type": "code",
   "execution_count": 9,
   "id": "5fa2e955-9a3c-4da7-91bf-093e4cbd3d07",
   "metadata": {},
   "outputs": [],
   "source": [
    "# Bypassing the screening by filtering expressions because it is not relevant in this case\n",
    "df_tweets_filtered = df_tweets_raw_data"
   ]
  },
  {
   "cell_type": "code",
   "execution_count": 10,
   "id": "19db4718-37a5-4895-8f3c-cac12e4aa6c4",
   "metadata": {},
   "outputs": [
    {
     "data": {
      "text/html": [
       "<div>\n",
       "<style scoped>\n",
       "    .dataframe tbody tr th:only-of-type {\n",
       "        vertical-align: middle;\n",
       "    }\n",
       "\n",
       "    .dataframe tbody tr th {\n",
       "        vertical-align: top;\n",
       "    }\n",
       "\n",
       "    .dataframe thead th {\n",
       "        text-align: right;\n",
       "    }\n",
       "</style>\n",
       "<table border=\"1\" class=\"dataframe\">\n",
       "  <thead>\n",
       "    <tr style=\"text-align: right;\">\n",
       "      <th></th>\n",
       "      <th>Title</th>\n",
       "      <th>Debate</th>\n",
       "      <th>Date</th>\n",
       "      <th>Participants</th>\n",
       "      <th>Moderators</th>\n",
       "      <th>Speaker</th>\n",
       "      <th>Text</th>\n",
       "    </tr>\n",
       "  </thead>\n",
       "  <tbody>\n",
       "    <tr>\n",
       "      <th>0</th>\n",
       "      <td>September 29, 2020 Debate Transcript</td>\n",
       "      <td>Presidential Debate at Case Western Reserve Un...</td>\n",
       "      <td>2020-09-29</td>\n",
       "      <td>Former Vice President Joe Biden (D) and Presid...</td>\n",
       "      <td>Chris Wallace (Fox News)</td>\n",
       "      <td>TRUMP</td>\n",
       "      <td>Thank you very much, Chris. I will tell you ve...</td>\n",
       "    </tr>\n",
       "    <tr>\n",
       "      <th>1</th>\n",
       "      <td>September 29, 2020 Debate Transcript</td>\n",
       "      <td>Presidential Debate at Case Western Reserve Un...</td>\n",
       "      <td>2020-09-29</td>\n",
       "      <td>Former Vice President Joe Biden (D) and Presid...</td>\n",
       "      <td>Chris Wallace (Fox News)</td>\n",
       "      <td>BIDEN</td>\n",
       "      <td>Well, first of all, thank you for doing this a...</td>\n",
       "    </tr>\n",
       "    <tr>\n",
       "      <th>2</th>\n",
       "      <td>September 29, 2020 Debate Transcript</td>\n",
       "      <td>Presidential Debate at Case Western Reserve Un...</td>\n",
       "      <td>2020-09-29</td>\n",
       "      <td>Former Vice President Joe Biden (D) and Presid...</td>\n",
       "      <td>Chris Wallace (Fox News)</td>\n",
       "      <td>BIDEN</td>\n",
       "      <td>The American people have a right to have a say...</td>\n",
       "    </tr>\n",
       "    <tr>\n",
       "      <th>3</th>\n",
       "      <td>September 29, 2020 Debate Transcript</td>\n",
       "      <td>Presidential Debate at Case Western Reserve Un...</td>\n",
       "      <td>2020-09-29</td>\n",
       "      <td>Former Vice President Joe Biden (D) and Presid...</td>\n",
       "      <td>Chris Wallace (Fox News)</td>\n",
       "      <td>TRUMP</td>\n",
       "      <td>There aren’t a hundred million people with pre...</td>\n",
       "    </tr>\n",
       "    <tr>\n",
       "      <th>4</th>\n",
       "      <td>September 29, 2020 Debate Transcript</td>\n",
       "      <td>Presidential Debate at Case Western Reserve Un...</td>\n",
       "      <td>2020-09-29</td>\n",
       "      <td>Former Vice President Joe Biden (D) and Presid...</td>\n",
       "      <td>Chris Wallace (Fox News)</td>\n",
       "      <td>TRUMP</td>\n",
       "      <td>During that period of time, during that period...</td>\n",
       "    </tr>\n",
       "    <tr>\n",
       "      <th>...</th>\n",
       "      <td>...</td>\n",
       "      <td>...</td>\n",
       "      <td>...</td>\n",
       "      <td>...</td>\n",
       "      <td>...</td>\n",
       "      <td>...</td>\n",
       "      <td>...</td>\n",
       "    </tr>\n",
       "    <tr>\n",
       "      <th>3473</th>\n",
       "      <td>October 21, 1960 Debate Transcript</td>\n",
       "      <td>The Fourth Kennedy-Nixon Presidential Debate</td>\n",
       "      <td>1960-10-21</td>\n",
       "      <td>Kennedy-Nixon</td>\n",
       "      <td>QUINCY HOWE</td>\n",
       "      <td>MR. NIXON</td>\n",
       "      <td>I would say that the issue will stay with us a...</td>\n",
       "    </tr>\n",
       "    <tr>\n",
       "      <th>3474</th>\n",
       "      <td>October 21, 1960 Debate Transcript</td>\n",
       "      <td>The Fourth Kennedy-Nixon Presidential Debate</td>\n",
       "      <td>1960-10-21</td>\n",
       "      <td>Kennedy-Nixon</td>\n",
       "      <td>QUINCY HOWE</td>\n",
       "      <td>MR. KENNEDY</td>\n",
       "      <td>Well, Mr. Nixon, to go back to 1955. The resol...</td>\n",
       "    </tr>\n",
       "    <tr>\n",
       "      <th>3475</th>\n",
       "      <td>October 21, 1960 Debate Transcript</td>\n",
       "      <td>The Fourth Kennedy-Nixon Presidential Debate</td>\n",
       "      <td>1960-10-21</td>\n",
       "      <td>Kennedy-Nixon</td>\n",
       "      <td>QUINCY HOWE</td>\n",
       "      <td>MR. KENNEDY</td>\n",
       "      <td>And that’s the testimony of uh – General Twini...</td>\n",
       "    </tr>\n",
       "    <tr>\n",
       "      <th>3476</th>\n",
       "      <td>October 21, 1960 Debate Transcript</td>\n",
       "      <td>The Fourth Kennedy-Nixon Presidential Debate</td>\n",
       "      <td>1960-10-21</td>\n",
       "      <td>Kennedy-Nixon</td>\n",
       "      <td>QUINCY HOWE</td>\n",
       "      <td>MR. KENNEDY</td>\n",
       "      <td>I uh – said that I’ve served this country for ...</td>\n",
       "    </tr>\n",
       "    <tr>\n",
       "      <th>3477</th>\n",
       "      <td>October 21, 1960 Debate Transcript</td>\n",
       "      <td>The Fourth Kennedy-Nixon Presidential Debate</td>\n",
       "      <td>1960-10-21</td>\n",
       "      <td>Kennedy-Nixon</td>\n",
       "      <td>QUINCY HOWE</td>\n",
       "      <td>MR. NIXON</td>\n",
       "      <td>Senator Kennedy has said tonight again what he...</td>\n",
       "    </tr>\n",
       "  </tbody>\n",
       "</table>\n",
       "<p>3478 rows × 7 columns</p>\n",
       "</div>"
      ],
      "text/plain": [
       "                                     Title  \\\n",
       "0     September 29, 2020 Debate Transcript   \n",
       "1     September 29, 2020 Debate Transcript   \n",
       "2     September 29, 2020 Debate Transcript   \n",
       "3     September 29, 2020 Debate Transcript   \n",
       "4     September 29, 2020 Debate Transcript   \n",
       "...                                    ...   \n",
       "3473    October 21, 1960 Debate Transcript   \n",
       "3474    October 21, 1960 Debate Transcript   \n",
       "3475    October 21, 1960 Debate Transcript   \n",
       "3476    October 21, 1960 Debate Transcript   \n",
       "3477    October 21, 1960 Debate Transcript   \n",
       "\n",
       "                                                 Debate       Date  \\\n",
       "0     Presidential Debate at Case Western Reserve Un... 2020-09-29   \n",
       "1     Presidential Debate at Case Western Reserve Un... 2020-09-29   \n",
       "2     Presidential Debate at Case Western Reserve Un... 2020-09-29   \n",
       "3     Presidential Debate at Case Western Reserve Un... 2020-09-29   \n",
       "4     Presidential Debate at Case Western Reserve Un... 2020-09-29   \n",
       "...                                                 ...        ...   \n",
       "3473       The Fourth Kennedy-Nixon Presidential Debate 1960-10-21   \n",
       "3474       The Fourth Kennedy-Nixon Presidential Debate 1960-10-21   \n",
       "3475       The Fourth Kennedy-Nixon Presidential Debate 1960-10-21   \n",
       "3476       The Fourth Kennedy-Nixon Presidential Debate 1960-10-21   \n",
       "3477       The Fourth Kennedy-Nixon Presidential Debate 1960-10-21   \n",
       "\n",
       "                                           Participants  \\\n",
       "0     Former Vice President Joe Biden (D) and Presid...   \n",
       "1     Former Vice President Joe Biden (D) and Presid...   \n",
       "2     Former Vice President Joe Biden (D) and Presid...   \n",
       "3     Former Vice President Joe Biden (D) and Presid...   \n",
       "4     Former Vice President Joe Biden (D) and Presid...   \n",
       "...                                                 ...   \n",
       "3473                                      Kennedy-Nixon   \n",
       "3474                                      Kennedy-Nixon   \n",
       "3475                                      Kennedy-Nixon   \n",
       "3476                                      Kennedy-Nixon   \n",
       "3477                                      Kennedy-Nixon   \n",
       "\n",
       "                    Moderators      Speaker  \\\n",
       "0     Chris Wallace (Fox News)        TRUMP   \n",
       "1     Chris Wallace (Fox News)        BIDEN   \n",
       "2     Chris Wallace (Fox News)        BIDEN   \n",
       "3     Chris Wallace (Fox News)        TRUMP   \n",
       "4     Chris Wallace (Fox News)        TRUMP   \n",
       "...                        ...          ...   \n",
       "3473               QUINCY HOWE    MR. NIXON   \n",
       "3474               QUINCY HOWE  MR. KENNEDY   \n",
       "3475               QUINCY HOWE  MR. KENNEDY   \n",
       "3476               QUINCY HOWE  MR. KENNEDY   \n",
       "3477               QUINCY HOWE    MR. NIXON   \n",
       "\n",
       "                                                   Text  \n",
       "0     Thank you very much, Chris. I will tell you ve...  \n",
       "1     Well, first of all, thank you for doing this a...  \n",
       "2     The American people have a right to have a say...  \n",
       "3     There aren’t a hundred million people with pre...  \n",
       "4     During that period of time, during that period...  \n",
       "...                                                 ...  \n",
       "3473  I would say that the issue will stay with us a...  \n",
       "3474  Well, Mr. Nixon, to go back to 1955. The resol...  \n",
       "3475  And that’s the testimony of uh – General Twini...  \n",
       "3476  I uh – said that I’ve served this country for ...  \n",
       "3477  Senator Kennedy has said tonight again what he...  \n",
       "\n",
       "[3478 rows x 7 columns]"
      ]
     },
     "execution_count": 10,
     "metadata": {},
     "output_type": "execute_result"
    }
   ],
   "source": [
    "df_tweets_filtered"
   ]
  },
  {
   "cell_type": "markdown",
   "id": "128b9f3a-5604-4efa-82a5-780b9b1f7837",
   "metadata": {},
   "source": [
    "### Exporting the filtered data into a file for inspection"
   ]
  },
  {
   "cell_type": "code",
   "execution_count": 11,
   "id": "c99e0e64-6977-47d0-a15a-9ea1abce8951",
   "metadata": {},
   "outputs": [],
   "source": [
    "df_tweets_filtered.to_csv('tweets_emojified.tsv', sep='\\t', index=False)"
   ]
  },
  {
   "cell_type": "code",
   "execution_count": 12,
   "id": "3d56501a-2039-47ef-b514-cd493f351c03",
   "metadata": {},
   "outputs": [],
   "source": [
    "df_tweets_filtered.to_json('tweets_emojified.jsonl', orient='records', lines=True)"
   ]
  },
  {
   "cell_type": "markdown",
   "id": "268d8c1a-2600-4b18-a1c7-0141fdcd40ea",
   "metadata": {},
   "source": [
    "## Replacing emojis"
   ]
  },
  {
   "cell_type": "markdown",
   "id": "3478255c-a7a8-48f0-9608-999dc92464a4",
   "metadata": {},
   "source": [
    "### Demojifying the column `text`"
   ]
  },
  {
   "cell_type": "code",
   "execution_count": 13,
   "id": "2341baec-2fa0-4ee8-82cf-1522257ab02f",
   "metadata": {},
   "outputs": [],
   "source": [
    "# Defining a function to demojify a string\n",
    "def demojify_line(input_line):\n",
    "    demojified_line = demoji.replace_with_desc(input_line, sep='<em>')\n",
    "    return demojified_line\n",
    "\n",
    "df_tweets_filtered['Text'] = df_tweets_filtered['Text'].apply(demojify_line)"
   ]
  },
  {
   "cell_type": "markdown",
   "id": "08405272-4072-4cbe-92c0-c221d3848181",
   "metadata": {},
   "source": [
    "#### Exporting the filtered data into a file for inspection"
   ]
  },
  {
   "cell_type": "code",
   "execution_count": 14,
   "id": "19a2453a-9a6a-4811-ad67-4a7ad495d95d",
   "metadata": {},
   "outputs": [],
   "source": [
    "df_tweets_filtered.to_csv('tweets_demojified1.tsv', sep='\\t', index=False)"
   ]
  },
  {
   "cell_type": "markdown",
   "id": "820ee493-3e57-4d46-817d-b7a4af0b0722",
   "metadata": {},
   "source": [
    "### Separating the demojified strings with spaces"
   ]
  },
  {
   "cell_type": "code",
   "execution_count": 15,
   "id": "9d55d111-b676-4569-89a0-a1c4ec2e57be",
   "metadata": {},
   "outputs": [],
   "source": [
    "# Defining a function to separate the demojified strings with spaces\n",
    "def preprocess_line(input_line):\n",
    "    # Add a space before the first delimiter '<em>', if it is not already preceded by one\n",
    "    preprocessed_line = re.sub(r'(?<! )<em>', ' <em>', input_line)\n",
    "    # Add a space after the first delimiter '<em>', if it is not already followed by one\n",
    "    preprocessed_line = re.sub(r'<em>(?! )', '<em> ', preprocessed_line)\n",
    "    return preprocessed_line\n",
    "\n",
    "# Separating the demojified strings with spaces\n",
    "df_tweets_filtered['Text'] = df_tweets_filtered['Text'].apply(preprocess_line)"
   ]
  },
  {
   "cell_type": "markdown",
   "id": "6acb282a-30a2-4401-80ac-305aa5f9d7c5",
   "metadata": {},
   "source": [
    "#### Exporting the filtered data into a file for inspection"
   ]
  },
  {
   "cell_type": "code",
   "execution_count": 16,
   "id": "fa3fce08-90f6-4e6a-97f7-ae69517a3689",
   "metadata": {},
   "outputs": [],
   "source": [
    "df_tweets_filtered.to_csv('tweets_demojified2.tsv', sep='\\t', index=False)"
   ]
  },
  {
   "cell_type": "markdown",
   "id": "2b2b2004-f565-44f9-9d43-31bf393170d8",
   "metadata": {},
   "source": [
    "### Formatting the demojified strings"
   ]
  },
  {
   "cell_type": "code",
   "execution_count": 17,
   "id": "2357ac57-bf81-4377-9a21-90fb79d1fcd8",
   "metadata": {},
   "outputs": [],
   "source": [
    "# Defining a function to format the demojified string\n",
    "def format_demojified_string(input_line):\n",
    "    # Defining a function to format the demojified string using RegEx\n",
    "    def process_demojified_string(s):\n",
    "            # Lowercase the string\n",
    "            s = s.lower()\n",
    "            # Replace spaces and colons followed by a space with underscores\n",
    "            s = re.sub(r'(: )| ', '_', s)\n",
    "            # Add the appropriate prefixes and suffixes\n",
    "            s = f'EMOJI{s}e'\n",
    "            return s\n",
    "\n",
    "    # Use RegEx to find and process each demojified string\n",
    "    processed_line = re.sub(r'<em>(.*?)<em>', lambda match: process_demojified_string(match.group(1)), input_line)\n",
    "    return processed_line\n",
    "\n",
    "# Formatting the demojified strings\n",
    "df_tweets_filtered['Text'] = df_tweets_filtered['Text'].apply(format_demojified_string)"
   ]
  },
  {
   "cell_type": "markdown",
   "id": "e743b0db-02a0-4e0b-b0b5-d6659960bc30",
   "metadata": {},
   "source": [
    "### Replacing the `pipe` character by the `-` character in the `text` column"
   ]
  },
  {
   "cell_type": "markdown",
   "id": "bc943030-7448-4d4d-98b8-b03c40e113e2",
   "metadata": {},
   "source": [
    "Further on, a few columns of the dataframe are going to be exported into the file `tweets.txt` whose columns need to be delimited by the `pipe` character. Therefore, it is recommended that any occurrences of the `pipe` character in the `text` column are replaced by another character."
   ]
  },
  {
   "cell_type": "code",
   "execution_count": 18,
   "id": "ab1c3584-ae80-41fc-b03a-4286a564a798",
   "metadata": {},
   "outputs": [],
   "source": [
    "# Defining a function to replace the 'pipe' character by the '-' character\n",
    "def replace_pipe_with_hyphen(input_string):\n",
    "    modified_string = re.sub(r'\\|', '-', input_string)\n",
    "    return modified_string\n",
    "\n",
    "# Replacing the 'pipe' character by the '-' character\n",
    "df_tweets_filtered['Text'] = df_tweets_filtered['Text'].apply(replace_pipe_with_hyphen)"
   ]
  },
  {
   "cell_type": "markdown",
   "id": "5a3d28f3-7d63-4c02-ba55-0dbc957a4291",
   "metadata": {},
   "source": [
    "#### Exporting the filtered data into a file for inspection"
   ]
  },
  {
   "cell_type": "code",
   "execution_count": 19,
   "id": "aab47cc6-5888-418a-8e4f-97daaf2ac3ac",
   "metadata": {},
   "outputs": [],
   "source": [
    "df_tweets_filtered.to_csv('tweets_demojified3.tsv', sep='\\t', index=False)"
   ]
  },
  {
   "cell_type": "markdown",
   "id": "776d4ca4-2999-47d3-ae97-b4f3a7599d84",
   "metadata": {},
   "source": [
    "## Tokenising"
   ]
  },
  {
   "cell_type": "markdown",
   "id": "1f950bc7-9ffa-4d96-9ce0-439643f90a55",
   "metadata": {},
   "source": [
    "Please refer to [What is tokenization in NLP?](https://www.analyticsvidhya.com/blog/2020/05/what-is-tokenization-nlp/)."
   ]
  },
  {
   "cell_type": "code",
   "execution_count": 20,
   "id": "9c1d393e-e85d-48f8-93f2-d7dfec6a2062",
   "metadata": {},
   "outputs": [],
   "source": [
    "# Defining a function to tokenise a string\n",
    "def tokenise_string(input_line):\n",
    "    # Replace URLs with placeholders\n",
    "    url_pattern = r'http[s]?://(?:[a-zA-Z]|[0-9]|[$-_@.&+]|[!*\\\\(\\\\),]|(?:%[0-9a-fA-F][0-9a-fA-F]))+\\b'\n",
    "    placeholder = '<URL>'  # Choose a unique placeholder\n",
    "    urls = re.findall(url_pattern, input_line)\n",
    "    tokenised_line = re.sub(url_pattern, placeholder, input_line)  # Replace URLs with placeholders\n",
    "    \n",
    "    # Replace curly quotes with straight ones\n",
    "    tokenised_line = tokenised_line.replace('“', '\"').replace('”', '\"').replace(\"‘\", \"'\").replace(\"’\", \"'\")\n",
    "    # Separate common punctuation marks with spaces\n",
    "    tokenised_line = re.sub(r'([.\\!?,\"\\'/()])', r' \\1 ', tokenised_line)\n",
    "    # Add a space before '#'\n",
    "    tokenised_line = re.sub(r'(?<!\\s)#', r' #', tokenised_line)  # Add a space before '#' if it is not already preceded by one\n",
    "    # Reduce extra spaces by a single space\n",
    "    tokenised_line = re.sub(r'\\s+', ' ', tokenised_line)\n",
    "    \n",
    "    # Replace the placeholders with the respective URLs\n",
    "    for url in urls:\n",
    "        tokenised_line = tokenised_line.replace(placeholder, url, 1)\n",
    "    \n",
    "    return tokenised_line\n",
    "\n",
    "# Tokenising the strings\n",
    "df_tweets_filtered['Text'] = df_tweets_filtered['Text'].apply(tokenise_string)"
   ]
  },
  {
   "cell_type": "markdown",
   "id": "edad8cc4-bd36-4d7a-905e-55173081cd85",
   "metadata": {},
   "source": [
    "## Creating the files `file_index.txt` and `tweets.txt`"
   ]
  },
  {
   "cell_type": "markdown",
   "id": "d9a908ea-85cd-4ded-b752-2ce8ccee6f62",
   "metadata": {},
   "source": [
    "### Creating column `text_id`"
   ]
  },
  {
   "cell_type": "code",
   "execution_count": 21,
   "id": "e69b8a02-8d66-4227-838a-020f8e458225",
   "metadata": {},
   "outputs": [],
   "source": [
    "df_tweets_filtered['text_id'] = 't' + df_tweets_filtered.index.astype(str).str.zfill(6)"
   ]
  },
  {
   "cell_type": "markdown",
   "id": "b08ecbc7-802a-4546-b770-bd94372e58f7",
   "metadata": {},
   "source": [
    "### Creating column `conversation`"
   ]
  },
  {
   "cell_type": "markdown",
   "id": "8d27bdcc-2e36-45e3-944b-fb7b9c3bc3f6",
   "metadata": {},
   "source": [
    "The column `conversation` maps on the column `Title`."
   ]
  },
  {
   "cell_type": "code",
   "execution_count": 22,
   "id": "2ad070c7-3caf-4eb8-8dfe-eba469fe0ed2",
   "metadata": {},
   "outputs": [],
   "source": [
    "df_tweets_filtered['conversation'] = 'v:' + df_tweets_filtered['Title']"
   ]
  },
  {
   "cell_type": "markdown",
   "id": "260168b6-8300-443e-b548-e86710c8729a",
   "metadata": {},
   "source": [
    "#### Replacing space by the `_` character"
   ]
  },
  {
   "cell_type": "markdown",
   "id": "e222fcec-9f1f-4e51-89ed-f392fc8aadc3",
   "metadata": {},
   "source": [
    "**Important**: Since the strings in the original columns contain spaces, Pandas creates `file_index.txt` with the columns enclosed with `\"` - this caracter causes issues in `examples.sh` when it is executed. Therefore, spaces should be replaced by another character such as underscore."
   ]
  },
  {
   "cell_type": "code",
   "execution_count": 23,
   "id": "75fde763-8001-484d-b6a4-7ae4b10efb14",
   "metadata": {},
   "outputs": [],
   "source": [
    "# Defining a function to replace space by the '_' character\n",
    "def replace_space_with_underscore(input_string):\n",
    "    modified_string = re.sub(r' ', '_', input_string)\n",
    "    return modified_string"
   ]
  },
  {
   "cell_type": "code",
   "execution_count": 24,
   "id": "89342f2f-0958-4011-adbb-33f2cb2523c5",
   "metadata": {},
   "outputs": [],
   "source": [
    "# Replacing space by the '_' character\n",
    "df_tweets_filtered['conversation'] = df_tweets_filtered['conversation'].apply(replace_space_with_underscore)"
   ]
  },
  {
   "cell_type": "markdown",
   "id": "b85be5b3-f3ec-4061-a9c7-6d29591a8efd",
   "metadata": {},
   "source": [
    "### Creating column `date`"
   ]
  },
  {
   "cell_type": "markdown",
   "id": "908deeaa-79d0-4c12-80b6-c9451cd109b6",
   "metadata": {},
   "source": [
    "The column `date` maps on the column `Date`."
   ]
  },
  {
   "cell_type": "code",
   "execution_count": 25,
   "id": "dc30acc9-8d7d-41ef-9e33-2367d4c1462e",
   "metadata": {},
   "outputs": [],
   "source": [
    "# Extract the date part (without time) into a new column 'date'\n",
    "df_tweets_filtered['date'] = df_tweets_filtered['Date'].dt.date\n",
    "\n",
    "# Add the prefix 'd:' to the 'date' values\n",
    "df_tweets_filtered['date'] = 'd:' + df_tweets_filtered['date'].astype(str)"
   ]
  },
  {
   "cell_type": "markdown",
   "id": "1067eec7-aedb-4bba-8241-5d5d000f6226",
   "metadata": {},
   "source": [
    "### Creating column `text_url`"
   ]
  },
  {
   "cell_type": "markdown",
   "id": "fa653097-c398-464f-82b9-5064a935801a",
   "metadata": {},
   "source": [
    "The column `text_url` maps on the column `Debate`."
   ]
  },
  {
   "cell_type": "code",
   "execution_count": 26,
   "id": "6a5dec9e-0791-4b40-b59e-b46b62d400ec",
   "metadata": {},
   "outputs": [],
   "source": [
    "df_tweets_filtered['text_url'] = 'url:' + df_tweets_filtered['Debate']"
   ]
  },
  {
   "cell_type": "markdown",
   "id": "a18a7e0c-9d05-4d98-816e-9b69c16b9ee5",
   "metadata": {},
   "source": [
    "#### Replacing space by the `_` character"
   ]
  },
  {
   "cell_type": "code",
   "execution_count": 27,
   "id": "3446da14-a5ce-4f89-b833-e0a5aab643b9",
   "metadata": {},
   "outputs": [],
   "source": [
    "# Replacing space by the '_' character\n",
    "df_tweets_filtered['text_url'] = df_tweets_filtered['text_url'].apply(replace_space_with_underscore)"
   ]
  },
  {
   "cell_type": "markdown",
   "id": "d27c35b3-69bc-4039-aa13-6b496f81c729",
   "metadata": {},
   "source": [
    "### Creating column `user`"
   ]
  },
  {
   "cell_type": "markdown",
   "id": "0ea46fce-666a-4ca2-aba6-12307df7e8f0",
   "metadata": {},
   "source": [
    "The column `user` maps on the column `Speaker`."
   ]
  },
  {
   "cell_type": "code",
   "execution_count": 28,
   "id": "5700d8af-3be8-4a60-bd3d-1ddf3df356ca",
   "metadata": {},
   "outputs": [],
   "source": [
    "df_tweets_filtered['user'] = 'u:' + df_tweets_filtered['Speaker']"
   ]
  },
  {
   "cell_type": "markdown",
   "id": "5b44eaf0-c01f-473a-a36d-952fa3f60e86",
   "metadata": {},
   "source": [
    "#### Replacing space by the `_` character"
   ]
  },
  {
   "cell_type": "code",
   "execution_count": 29,
   "id": "7ef904e9-1150-4a96-9a8b-6f373bbae176",
   "metadata": {},
   "outputs": [],
   "source": [
    "# Replacing space by the '_' character\n",
    "df_tweets_filtered['user'] = df_tweets_filtered['user'].apply(replace_space_with_underscore)"
   ]
  },
  {
   "cell_type": "markdown",
   "id": "ba1d2a83-b1a0-4db7-b9d3-e6d91202402c",
   "metadata": {},
   "source": [
    "### Creating column `content`"
   ]
  },
  {
   "cell_type": "markdown",
   "id": "8e3b069a-1866-403b-b22b-79d26fe6a45e",
   "metadata": {},
   "source": [
    "The column `content` maps on the column `Text`."
   ]
  },
  {
   "cell_type": "code",
   "execution_count": 30,
   "id": "cd9313bd-6cbe-487c-a152-de678559260d",
   "metadata": {},
   "outputs": [],
   "source": [
    "df_tweets_filtered['content'] = 'c:' + df_tweets_filtered['Text']"
   ]
  },
  {
   "cell_type": "markdown",
   "id": "d11872fa-2b44-4302-ab43-f98f64692eaf",
   "metadata": {},
   "source": [
    "### Reordering the created columns"
   ]
  },
  {
   "cell_type": "markdown",
   "id": "1538070e-1838-454f-a761-549e2bd5bc36",
   "metadata": {},
   "source": [
    "Please refer to:\n",
    "- [Python - List Comprehension 1](https://www.w3schools.com/python/python_lists_comprehension.asp)\n",
    "- [Python - List Comprehension 2](https://treyhunner.com/2015/12/python-list-comprehensions-now-in-color/)"
   ]
  },
  {
   "cell_type": "code",
   "execution_count": 31,
   "id": "afc325f4-43c7-4ba8-b10f-130974d8c191",
   "metadata": {},
   "outputs": [],
   "source": [
    "# Reorder the columns (we use list comprehension to create a list of all columns except 'text_id', 'variable', 'date' and 'text_url')\n",
    "df_tweets_filtered = df_tweets_filtered[['text_id', 'conversation', 'date', 'text_url', 'user', 'content'] + [col for col in df_tweets_filtered.columns if col not in ['text_id', 'conversation', 'date', 'text_url', 'user', 'content']]]"
   ]
  },
  {
   "cell_type": "code",
   "execution_count": 32,
   "id": "1217907f-187c-4d64-a97a-e7a9c607f6dc",
   "metadata": {},
   "outputs": [
    {
     "data": {
      "text/html": [
       "<div>\n",
       "<style scoped>\n",
       "    .dataframe tbody tr th:only-of-type {\n",
       "        vertical-align: middle;\n",
       "    }\n",
       "\n",
       "    .dataframe tbody tr th {\n",
       "        vertical-align: top;\n",
       "    }\n",
       "\n",
       "    .dataframe thead th {\n",
       "        text-align: right;\n",
       "    }\n",
       "</style>\n",
       "<table border=\"1\" class=\"dataframe\">\n",
       "  <thead>\n",
       "    <tr style=\"text-align: right;\">\n",
       "      <th></th>\n",
       "      <th>text_id</th>\n",
       "      <th>conversation</th>\n",
       "      <th>date</th>\n",
       "      <th>text_url</th>\n",
       "      <th>user</th>\n",
       "      <th>content</th>\n",
       "      <th>Title</th>\n",
       "      <th>Debate</th>\n",
       "      <th>Date</th>\n",
       "      <th>Participants</th>\n",
       "      <th>Moderators</th>\n",
       "      <th>Speaker</th>\n",
       "      <th>Text</th>\n",
       "    </tr>\n",
       "  </thead>\n",
       "  <tbody>\n",
       "    <tr>\n",
       "      <th>0</th>\n",
       "      <td>t000000</td>\n",
       "      <td>v:September_29,_2020_Debate_Transcript</td>\n",
       "      <td>d:2020-09-29</td>\n",
       "      <td>url:Presidential_Debate_at_Case_Western_Reserv...</td>\n",
       "      <td>u:TRUMP</td>\n",
       "      <td>c:Thank you very much , Chris . I will tell yo...</td>\n",
       "      <td>September 29, 2020 Debate Transcript</td>\n",
       "      <td>Presidential Debate at Case Western Reserve Un...</td>\n",
       "      <td>2020-09-29</td>\n",
       "      <td>Former Vice President Joe Biden (D) and Presid...</td>\n",
       "      <td>Chris Wallace (Fox News)</td>\n",
       "      <td>TRUMP</td>\n",
       "      <td>Thank you very much , Chris . I will tell you ...</td>\n",
       "    </tr>\n",
       "    <tr>\n",
       "      <th>1</th>\n",
       "      <td>t000001</td>\n",
       "      <td>v:September_29,_2020_Debate_Transcript</td>\n",
       "      <td>d:2020-09-29</td>\n",
       "      <td>url:Presidential_Debate_at_Case_Western_Reserv...</td>\n",
       "      <td>u:BIDEN</td>\n",
       "      <td>c:Well , first of all , thank you for doing th...</td>\n",
       "      <td>September 29, 2020 Debate Transcript</td>\n",
       "      <td>Presidential Debate at Case Western Reserve Un...</td>\n",
       "      <td>2020-09-29</td>\n",
       "      <td>Former Vice President Joe Biden (D) and Presid...</td>\n",
       "      <td>Chris Wallace (Fox News)</td>\n",
       "      <td>BIDEN</td>\n",
       "      <td>Well , first of all , thank you for doing this...</td>\n",
       "    </tr>\n",
       "    <tr>\n",
       "      <th>2</th>\n",
       "      <td>t000002</td>\n",
       "      <td>v:September_29,_2020_Debate_Transcript</td>\n",
       "      <td>d:2020-09-29</td>\n",
       "      <td>url:Presidential_Debate_at_Case_Western_Reserv...</td>\n",
       "      <td>u:BIDEN</td>\n",
       "      <td>c:The American people have a right to have a s...</td>\n",
       "      <td>September 29, 2020 Debate Transcript</td>\n",
       "      <td>Presidential Debate at Case Western Reserve Un...</td>\n",
       "      <td>2020-09-29</td>\n",
       "      <td>Former Vice President Joe Biden (D) and Presid...</td>\n",
       "      <td>Chris Wallace (Fox News)</td>\n",
       "      <td>BIDEN</td>\n",
       "      <td>The American people have a right to have a say...</td>\n",
       "    </tr>\n",
       "    <tr>\n",
       "      <th>3</th>\n",
       "      <td>t000003</td>\n",
       "      <td>v:September_29,_2020_Debate_Transcript</td>\n",
       "      <td>d:2020-09-29</td>\n",
       "      <td>url:Presidential_Debate_at_Case_Western_Reserv...</td>\n",
       "      <td>u:TRUMP</td>\n",
       "      <td>c:There aren ' t a hundred million people with...</td>\n",
       "      <td>September 29, 2020 Debate Transcript</td>\n",
       "      <td>Presidential Debate at Case Western Reserve Un...</td>\n",
       "      <td>2020-09-29</td>\n",
       "      <td>Former Vice President Joe Biden (D) and Presid...</td>\n",
       "      <td>Chris Wallace (Fox News)</td>\n",
       "      <td>TRUMP</td>\n",
       "      <td>There aren ' t a hundred million people with p...</td>\n",
       "    </tr>\n",
       "    <tr>\n",
       "      <th>4</th>\n",
       "      <td>t000004</td>\n",
       "      <td>v:September_29,_2020_Debate_Transcript</td>\n",
       "      <td>d:2020-09-29</td>\n",
       "      <td>url:Presidential_Debate_at_Case_Western_Reserv...</td>\n",
       "      <td>u:TRUMP</td>\n",
       "      <td>c:During that period of time , during that per...</td>\n",
       "      <td>September 29, 2020 Debate Transcript</td>\n",
       "      <td>Presidential Debate at Case Western Reserve Un...</td>\n",
       "      <td>2020-09-29</td>\n",
       "      <td>Former Vice President Joe Biden (D) and Presid...</td>\n",
       "      <td>Chris Wallace (Fox News)</td>\n",
       "      <td>TRUMP</td>\n",
       "      <td>During that period of time , during that perio...</td>\n",
       "    </tr>\n",
       "    <tr>\n",
       "      <th>...</th>\n",
       "      <td>...</td>\n",
       "      <td>...</td>\n",
       "      <td>...</td>\n",
       "      <td>...</td>\n",
       "      <td>...</td>\n",
       "      <td>...</td>\n",
       "      <td>...</td>\n",
       "      <td>...</td>\n",
       "      <td>...</td>\n",
       "      <td>...</td>\n",
       "      <td>...</td>\n",
       "      <td>...</td>\n",
       "      <td>...</td>\n",
       "    </tr>\n",
       "    <tr>\n",
       "      <th>3473</th>\n",
       "      <td>t003473</td>\n",
       "      <td>v:October_21,_1960_Debate_Transcript</td>\n",
       "      <td>d:1960-10-21</td>\n",
       "      <td>url:The_Fourth_Kennedy-Nixon_Presidential_Debate</td>\n",
       "      <td>u:MR._NIXON</td>\n",
       "      <td>c:I would say that the issue will stay with us...</td>\n",
       "      <td>October 21, 1960 Debate Transcript</td>\n",
       "      <td>The Fourth Kennedy-Nixon Presidential Debate</td>\n",
       "      <td>1960-10-21</td>\n",
       "      <td>Kennedy-Nixon</td>\n",
       "      <td>QUINCY HOWE</td>\n",
       "      <td>MR. NIXON</td>\n",
       "      <td>I would say that the issue will stay with us a...</td>\n",
       "    </tr>\n",
       "    <tr>\n",
       "      <th>3474</th>\n",
       "      <td>t003474</td>\n",
       "      <td>v:October_21,_1960_Debate_Transcript</td>\n",
       "      <td>d:1960-10-21</td>\n",
       "      <td>url:The_Fourth_Kennedy-Nixon_Presidential_Debate</td>\n",
       "      <td>u:MR._KENNEDY</td>\n",
       "      <td>c:Well , Mr . Nixon , to go back to 1955 . The...</td>\n",
       "      <td>October 21, 1960 Debate Transcript</td>\n",
       "      <td>The Fourth Kennedy-Nixon Presidential Debate</td>\n",
       "      <td>1960-10-21</td>\n",
       "      <td>Kennedy-Nixon</td>\n",
       "      <td>QUINCY HOWE</td>\n",
       "      <td>MR. KENNEDY</td>\n",
       "      <td>Well , Mr . Nixon , to go back to 1955 . The r...</td>\n",
       "    </tr>\n",
       "    <tr>\n",
       "      <th>3475</th>\n",
       "      <td>t003475</td>\n",
       "      <td>v:October_21,_1960_Debate_Transcript</td>\n",
       "      <td>d:1960-10-21</td>\n",
       "      <td>url:The_Fourth_Kennedy-Nixon_Presidential_Debate</td>\n",
       "      <td>u:MR._KENNEDY</td>\n",
       "      <td>c:And that ' s the testimony of uh – General T...</td>\n",
       "      <td>October 21, 1960 Debate Transcript</td>\n",
       "      <td>The Fourth Kennedy-Nixon Presidential Debate</td>\n",
       "      <td>1960-10-21</td>\n",
       "      <td>Kennedy-Nixon</td>\n",
       "      <td>QUINCY HOWE</td>\n",
       "      <td>MR. KENNEDY</td>\n",
       "      <td>And that ' s the testimony of uh – General Twi...</td>\n",
       "    </tr>\n",
       "    <tr>\n",
       "      <th>3476</th>\n",
       "      <td>t003476</td>\n",
       "      <td>v:October_21,_1960_Debate_Transcript</td>\n",
       "      <td>d:1960-10-21</td>\n",
       "      <td>url:The_Fourth_Kennedy-Nixon_Presidential_Debate</td>\n",
       "      <td>u:MR._KENNEDY</td>\n",
       "      <td>c:I uh – said that I ' ve served this country ...</td>\n",
       "      <td>October 21, 1960 Debate Transcript</td>\n",
       "      <td>The Fourth Kennedy-Nixon Presidential Debate</td>\n",
       "      <td>1960-10-21</td>\n",
       "      <td>Kennedy-Nixon</td>\n",
       "      <td>QUINCY HOWE</td>\n",
       "      <td>MR. KENNEDY</td>\n",
       "      <td>I uh – said that I ' ve served this country fo...</td>\n",
       "    </tr>\n",
       "    <tr>\n",
       "      <th>3477</th>\n",
       "      <td>t003477</td>\n",
       "      <td>v:October_21,_1960_Debate_Transcript</td>\n",
       "      <td>d:1960-10-21</td>\n",
       "      <td>url:The_Fourth_Kennedy-Nixon_Presidential_Debate</td>\n",
       "      <td>u:MR._NIXON</td>\n",
       "      <td>c:Senator Kennedy has said tonight again what ...</td>\n",
       "      <td>October 21, 1960 Debate Transcript</td>\n",
       "      <td>The Fourth Kennedy-Nixon Presidential Debate</td>\n",
       "      <td>1960-10-21</td>\n",
       "      <td>Kennedy-Nixon</td>\n",
       "      <td>QUINCY HOWE</td>\n",
       "      <td>MR. NIXON</td>\n",
       "      <td>Senator Kennedy has said tonight again what he...</td>\n",
       "    </tr>\n",
       "  </tbody>\n",
       "</table>\n",
       "<p>3478 rows × 13 columns</p>\n",
       "</div>"
      ],
      "text/plain": [
       "      text_id                            conversation          date  \\\n",
       "0     t000000  v:September_29,_2020_Debate_Transcript  d:2020-09-29   \n",
       "1     t000001  v:September_29,_2020_Debate_Transcript  d:2020-09-29   \n",
       "2     t000002  v:September_29,_2020_Debate_Transcript  d:2020-09-29   \n",
       "3     t000003  v:September_29,_2020_Debate_Transcript  d:2020-09-29   \n",
       "4     t000004  v:September_29,_2020_Debate_Transcript  d:2020-09-29   \n",
       "...       ...                                     ...           ...   \n",
       "3473  t003473    v:October_21,_1960_Debate_Transcript  d:1960-10-21   \n",
       "3474  t003474    v:October_21,_1960_Debate_Transcript  d:1960-10-21   \n",
       "3475  t003475    v:October_21,_1960_Debate_Transcript  d:1960-10-21   \n",
       "3476  t003476    v:October_21,_1960_Debate_Transcript  d:1960-10-21   \n",
       "3477  t003477    v:October_21,_1960_Debate_Transcript  d:1960-10-21   \n",
       "\n",
       "                                               text_url           user  \\\n",
       "0     url:Presidential_Debate_at_Case_Western_Reserv...        u:TRUMP   \n",
       "1     url:Presidential_Debate_at_Case_Western_Reserv...        u:BIDEN   \n",
       "2     url:Presidential_Debate_at_Case_Western_Reserv...        u:BIDEN   \n",
       "3     url:Presidential_Debate_at_Case_Western_Reserv...        u:TRUMP   \n",
       "4     url:Presidential_Debate_at_Case_Western_Reserv...        u:TRUMP   \n",
       "...                                                 ...            ...   \n",
       "3473   url:The_Fourth_Kennedy-Nixon_Presidential_Debate    u:MR._NIXON   \n",
       "3474   url:The_Fourth_Kennedy-Nixon_Presidential_Debate  u:MR._KENNEDY   \n",
       "3475   url:The_Fourth_Kennedy-Nixon_Presidential_Debate  u:MR._KENNEDY   \n",
       "3476   url:The_Fourth_Kennedy-Nixon_Presidential_Debate  u:MR._KENNEDY   \n",
       "3477   url:The_Fourth_Kennedy-Nixon_Presidential_Debate    u:MR._NIXON   \n",
       "\n",
       "                                                content  \\\n",
       "0     c:Thank you very much , Chris . I will tell yo...   \n",
       "1     c:Well , first of all , thank you for doing th...   \n",
       "2     c:The American people have a right to have a s...   \n",
       "3     c:There aren ' t a hundred million people with...   \n",
       "4     c:During that period of time , during that per...   \n",
       "...                                                 ...   \n",
       "3473  c:I would say that the issue will stay with us...   \n",
       "3474  c:Well , Mr . Nixon , to go back to 1955 . The...   \n",
       "3475  c:And that ' s the testimony of uh – General T...   \n",
       "3476  c:I uh – said that I ' ve served this country ...   \n",
       "3477  c:Senator Kennedy has said tonight again what ...   \n",
       "\n",
       "                                     Title  \\\n",
       "0     September 29, 2020 Debate Transcript   \n",
       "1     September 29, 2020 Debate Transcript   \n",
       "2     September 29, 2020 Debate Transcript   \n",
       "3     September 29, 2020 Debate Transcript   \n",
       "4     September 29, 2020 Debate Transcript   \n",
       "...                                    ...   \n",
       "3473    October 21, 1960 Debate Transcript   \n",
       "3474    October 21, 1960 Debate Transcript   \n",
       "3475    October 21, 1960 Debate Transcript   \n",
       "3476    October 21, 1960 Debate Transcript   \n",
       "3477    October 21, 1960 Debate Transcript   \n",
       "\n",
       "                                                 Debate       Date  \\\n",
       "0     Presidential Debate at Case Western Reserve Un... 2020-09-29   \n",
       "1     Presidential Debate at Case Western Reserve Un... 2020-09-29   \n",
       "2     Presidential Debate at Case Western Reserve Un... 2020-09-29   \n",
       "3     Presidential Debate at Case Western Reserve Un... 2020-09-29   \n",
       "4     Presidential Debate at Case Western Reserve Un... 2020-09-29   \n",
       "...                                                 ...        ...   \n",
       "3473       The Fourth Kennedy-Nixon Presidential Debate 1960-10-21   \n",
       "3474       The Fourth Kennedy-Nixon Presidential Debate 1960-10-21   \n",
       "3475       The Fourth Kennedy-Nixon Presidential Debate 1960-10-21   \n",
       "3476       The Fourth Kennedy-Nixon Presidential Debate 1960-10-21   \n",
       "3477       The Fourth Kennedy-Nixon Presidential Debate 1960-10-21   \n",
       "\n",
       "                                           Participants  \\\n",
       "0     Former Vice President Joe Biden (D) and Presid...   \n",
       "1     Former Vice President Joe Biden (D) and Presid...   \n",
       "2     Former Vice President Joe Biden (D) and Presid...   \n",
       "3     Former Vice President Joe Biden (D) and Presid...   \n",
       "4     Former Vice President Joe Biden (D) and Presid...   \n",
       "...                                                 ...   \n",
       "3473                                      Kennedy-Nixon   \n",
       "3474                                      Kennedy-Nixon   \n",
       "3475                                      Kennedy-Nixon   \n",
       "3476                                      Kennedy-Nixon   \n",
       "3477                                      Kennedy-Nixon   \n",
       "\n",
       "                    Moderators      Speaker  \\\n",
       "0     Chris Wallace (Fox News)        TRUMP   \n",
       "1     Chris Wallace (Fox News)        BIDEN   \n",
       "2     Chris Wallace (Fox News)        BIDEN   \n",
       "3     Chris Wallace (Fox News)        TRUMP   \n",
       "4     Chris Wallace (Fox News)        TRUMP   \n",
       "...                        ...          ...   \n",
       "3473               QUINCY HOWE    MR. NIXON   \n",
       "3474               QUINCY HOWE  MR. KENNEDY   \n",
       "3475               QUINCY HOWE  MR. KENNEDY   \n",
       "3476               QUINCY HOWE  MR. KENNEDY   \n",
       "3477               QUINCY HOWE    MR. NIXON   \n",
       "\n",
       "                                                   Text  \n",
       "0     Thank you very much , Chris . I will tell you ...  \n",
       "1     Well , first of all , thank you for doing this...  \n",
       "2     The American people have a right to have a say...  \n",
       "3     There aren ' t a hundred million people with p...  \n",
       "4     During that period of time , during that perio...  \n",
       "...                                                 ...  \n",
       "3473  I would say that the issue will stay with us a...  \n",
       "3474  Well , Mr . Nixon , to go back to 1955 . The r...  \n",
       "3475  And that ' s the testimony of uh – General Twi...  \n",
       "3476  I uh – said that I ' ve served this country fo...  \n",
       "3477  Senator Kennedy has said tonight again what he...  \n",
       "\n",
       "[3478 rows x 13 columns]"
      ]
     },
     "execution_count": 32,
     "metadata": {},
     "output_type": "execute_result"
    }
   ],
   "source": [
    "df_tweets_filtered"
   ]
  },
  {
   "cell_type": "markdown",
   "id": "921f23e3-bc12-4150-8bf1-557184b40d1b",
   "metadata": {},
   "source": [
    "### Creating the file `file_index.txt`"
   ]
  },
  {
   "cell_type": "code",
   "execution_count": 33,
   "id": "199bbbe5-a366-4fde-9314-f0de3d49c379",
   "metadata": {},
   "outputs": [],
   "source": [
    "df_tweets_filtered[['text_id', 'conversation', 'date', 'text_url']].to_csv('file_index.txt', sep=' ', index=False, header=False, encoding='utf-8', lineterminator='\\n')"
   ]
  },
  {
   "cell_type": "markdown",
   "id": "fd415c21-39dc-4083-9632-e5cd92fa6948",
   "metadata": {},
   "source": [
    "### Creating the file `tweets.txt`"
   ]
  },
  {
   "cell_type": "code",
   "execution_count": 34,
   "id": "5445fc96-0b9f-4283-80b3-09b1bddeab91",
   "metadata": {},
   "outputs": [
    {
     "name": "stdout",
     "output_type": "stream",
     "text": [
      "Folder tweets created!\n"
     ]
    }
   ],
   "source": [
    "folder = 'tweets'\n",
    "try:\n",
    "    os.mkdir(folder)\n",
    "    print(f'Folder {folder} created!')\n",
    "except FileExistsError:\n",
    "    print(f'Folder {folder} already exists')"
   ]
  },
  {
   "cell_type": "markdown",
   "id": "8de49e26-5efe-472f-9952-cef41fcda082",
   "metadata": {},
   "source": [
    "Note: The parameters `doublequote=False` and `escapechar=' '` are required to avoid that the column content is doublequoted with '\"' in sentences that use characters that need to be escaped such as double quote '\"' itself - this causes a malformed response from TreeTagger."
   ]
  },
  {
   "cell_type": "code",
   "execution_count": 35,
   "id": "3b566e03-56e4-44a8-8558-b6e940bb6193",
   "metadata": {},
   "outputs": [],
   "source": [
    "df_tweets_filtered[['text_id', 'conversation', 'date', 'user', 'content']].to_csv(f'{folder}/tweets.txt', sep='|', index=False, header=False, encoding='utf-8', lineterminator='\\n', doublequote=False, escapechar=' ')"
   ]
  },
  {
   "cell_type": "markdown",
   "id": "2f769843-4ff9-4436-a2e0-d61e2c391e9d",
   "metadata": {},
   "source": [
    "## Tagging with TreeTagger"
   ]
  },
  {
   "cell_type": "markdown",
   "id": "f3877be9-6317-42ee-8e8d-c15c48f77996",
   "metadata": {},
   "source": [
    "- On Visual Studio Code (VS Code), open the folder where your project is located with `Open Folder...`\n",
    "- Open a WSL Ubuntu Terminal on VS Code\n",
    "- **Important**: Activate the `my_env` Python environment by executing `source \"$HOME\"/my_env/bin/activate`\n",
    "- Proceed as indicated\n",
    "\n",
    "Note: You have to download and open this Jupyter Notebook on JupyterLab (provided as part of Anaconda Distribution) to visualise the procedure"
   ]
  },
  {
   "cell_type": "markdown",
   "id": "720724ab-5e77-4e9e-b05a-24cf73259cd0",
   "metadata": {},
   "source": [
    "Purpose: Annotate the texts in `tweets/tweets.txt` with part-of-speech and lemma information.\n",
    "- Input\n",
    "    - `file_index.txt`\n",
    "    - `tweets/tweets.txt`\n",
    "- Output\n",
    "    - `tweets/tagged.txt`"
   ]
  },
  {
   "cell_type": "raw",
   "id": "9005cc09-f5ef-454f-9b74-4d7ca9fe4f10",
   "metadata": {},
   "source": [
    "eyamrog@Rog-ASUS:/mnt/c/Users/eyamr/Downloads$ source \"$HOME\"/my_env/bin/activate\n",
    "(my_env) eyamrog@Rog-ASUS:/mnt/c/Users/eyamr/Downloads$ bash treetagging.sh\n",
    "--- treetagging t000000 / t018205 ---\n",
    "        reading parameters ...\n",
    "        tagging ...\n",
    "         finished.\n",
    "--- treetagging t000001 / t018205 ---\n",
    "        reading parameters ...\n",
    "        tagging ...\n",
    "         finished.\n",
    "--- treetagging t000002 / t018205 ---\n",
    "        reading parameters ...\n",
    "        tagging ...\n",
    "         finished.\n",
    "--- treetagging t000003 / t018205 ---\n",
    "        reading parameters ...\n",
    "        tagging ...\n",
    "         finished.\n",
    "<omitted>"
   ]
  },
  {
   "cell_type": "markdown",
   "id": "fa0060ba-d01c-4e48-a353-8c9ba0fc456e",
   "metadata": {},
   "source": [
    "## Processing `tokenstypes`"
   ]
  },
  {
   "cell_type": "markdown",
   "id": "93351bf2-3457-4b47-8a47-7ff13c4e0e1a",
   "metadata": {},
   "source": [
    "Purpose: Capture the content tokens (specific occurrences of words) and the content types (general concept of words) from `tweets/tagged.txt`.\n",
    "- Input\n",
    "    - `file_index.txt`\n",
    "    - `tweets/tagged.txt`\n",
    "- Output\n",
    "    - `tweets/tokens.txt`\n",
    "    - `tweets/types.txt`"
   ]
  },
  {
   "cell_type": "raw",
   "id": "6cddc717-8ff2-4f38-ae10-8d6616de6a6c",
   "metadata": {},
   "source": [
    "eyamrog@Rog-ASUS:/mnt/c/Users/eyamr/Downloads$ source \"$HOME\"/my_env/bin/activate\n",
    "(my_env) eyamrog@Rog-ASUS:/mnt/c/Users/eyamr/Downloads$ bash tokenstypes.sh\n",
    "--- tokenstypes t000000 / 18206 ---\n",
    "--- tokenstypes t000001 / 18206 ---\n",
    "--- tokenstypes t000002 / 18206 ---\n",
    "--- tokenstypes t000003 / 18206 ---\n",
    "--- tokenstypes t000004 / 18206 ---\n",
    "--- tokenstypes t000005 / 18206 ---\n",
    "<omitted>"
   ]
  },
  {
   "cell_type": "markdown",
   "id": "ef598329-fb5a-4b07-8799-b2bbb55847f1",
   "metadata": {},
   "source": [
    "## Processing `toplemmas`"
   ]
  },
  {
   "cell_type": "markdown",
   "id": "79ce5796-0434-44d5-88e2-8f934a6cebc8",
   "metadata": {},
   "source": [
    "Purpose: Determine the 1.000 top lemmas. **Important**: This process requires manual inspection. Non-meaningful lemmas should be excluded by updating `stoplist.sed` and reiterating the processing.\n",
    "- Input\n",
    "    - `tweets/types.txt`\n",
    "    - `stoplist.sed`: List of rules that allows the exclusion of a certain lemmas\n",
    "- Output\n",
    "    - `selectedwords` = `var_index.txt`"
   ]
  },
  {
   "cell_type": "raw",
   "id": "13b0fc8e-73e2-4e2d-9e2f-73068e4132fc",
   "metadata": {},
   "source": [
    "eyamrog@Rog-ASUS:/mnt/c/Users/eyamr/Downloads$ source \"$HOME\"/my_env/bin/activate\n",
    "(my_env) eyamrog@Rog-ASUS:/mnt/c/Users/eyamr/Downloads$ bash toplemmas.sh\n"
   ]
  },
  {
   "cell_type": "markdown",
   "id": "eb0a4675-5067-4e8b-8ca8-baf9f1b915c1",
   "metadata": {},
   "source": [
    "## Processing `sas`"
   ]
  },
  {
   "cell_type": "markdown",
   "id": "b0d158b2-73d7-477e-a7a7-2b87216a19ae",
   "metadata": {},
   "source": [
    "Purpose: Prepare input data for processing in SAS.\n",
    "- Input\n",
    "    - `tweets/types.txt`\n",
    "    - `selectedwords`\n",
    "    - `file_index.txt`\n",
    "- Output\n",
    "    - `columns`\n",
    "    - `sas/data.txt`\n",
    "    - `sas/dates.txt`\n",
    "    - `sas/wcount.txt`"
   ]
  },
  {
   "cell_type": "raw",
   "id": "0d250d29-861c-41a6-9793-e0df758100e0",
   "metadata": {},
   "source": [
    "eyamrog@Rog-ASUS:/mnt/c/Users/eyamr/Downloads$ source \"$HOME\"/my_env/bin/activate\n",
    "(my_env) eyamrog@Rog-ASUS:/mnt/c/Users/eyamr/Downloads$ bash sas.sh\n",
    "--- v000001 ---\n",
    "--- v000002 ---\n",
    "--- v000003 ---\n",
    "--- v000004 ---\n",
    "--- v000005 ---\n",
    "<omitted>\n",
    "--- v001000 ---\n",
    "[nltk_data] Downloading package punkt to /home/eyamrog/nltk_data...\n",
    "[nltk_data]   Package punkt is already up-to-date!\n",
    "Word counts written to sas/wcount.txt"
   ]
  },
  {
   "cell_type": "markdown",
   "id": "0e8087ea-ffd4-43b9-8eda-4444b931c319",
   "metadata": {},
   "source": [
    "## Processing `datamatrix`"
   ]
  },
  {
   "cell_type": "markdown",
   "id": "b4374f48-04b6-48af-a31d-125ef0e85972",
   "metadata": {},
   "source": [
    "Purpose: Prepares input data for calculating the correlation matrix.\n",
    "- Input\n",
    "    - `file_index.txt`\n",
    "    - `columns`\n",
    "    - `selectedwords`\n",
    "- Output\n",
    "    - `file_ids.txt`\n",
    "    - `data.csv`"
   ]
  },
  {
   "cell_type": "raw",
   "id": "23925f09-05ef-44a5-ba48-78cac1dedc76",
   "metadata": {},
   "source": [
    "eyamrog@Rog-ASUS:/mnt/c/Users/eyamr/Downloads$ source \"$HOME\"/my_env/bin/activate\n",
    "(my_env) eyamrog@Rog-ASUS:/mnt/c/Users/eyamr/Downloads$ bash datamatrix.sh\n",
    "--- v000001 ---\n",
    "--- v000002 ---\n",
    "--- v000003 ---\n",
    "--- v000004 ---\n",
    "--- v000005 ---\n",
    "<omitted>\n",
    "--- v001000 ---\n",
    "--- data.csv ...---"
   ]
  },
  {
   "cell_type": "markdown",
   "id": "6130e8f0-a7e5-4f6e-b427-090f7cda4856",
   "metadata": {},
   "source": [
    "## Processing `correlationmatrix`"
   ]
  },
  {
   "cell_type": "markdown",
   "id": "8bddbb87-b4de-4c41-8177-b2f677d803b6",
   "metadata": {},
   "source": [
    "Purpose: Calculates the correlation matrix.\n",
    "- Input\n",
    "    - `data.csv`\n",
    "- Output\n",
    "    - `correlation`"
   ]
  },
  {
   "cell_type": "raw",
   "id": "42927846-5d87-4f5f-8ce6-8beb4ef733a4",
   "metadata": {},
   "source": [
    "eyamrog@Rog-ASUS:/mnt/c/Users/eyamr/Downloads$ source \"$HOME\"/my_env/bin/activate\n",
    "(my_env) eyamrog@Rog-ASUS:/mnt/c/Users/eyamr/Downloads$ bash correlationmatrix.sh\n",
    "--- python correlation ... ---"
   ]
  },
  {
   "cell_type": "markdown",
   "id": "86e9203f-e9e1-4a73-8bed-7dec1ad8617e",
   "metadata": {},
   "source": [
    "## Processing `formats`"
   ]
  },
  {
   "cell_type": "markdown",
   "id": "69517100-c28d-44ba-90a7-37988e3df8ad",
   "metadata": {},
   "source": [
    "Purpose: Prepare input data for processing in SAS.\n",
    "- Input\n",
    "    - `data.csv`\n",
    "    - `selectedwords`\n",
    "- Output\n",
    "    - `sas/corr.txt`\n",
    "    - `sas/word_labels_format.sas`"
   ]
  },
  {
   "cell_type": "raw",
   "id": "96f9b02f-fd33-4ff2-bf57-463fac9743e6",
   "metadata": {},
   "source": [
    "eyamrog@Rog-ASUS:/mnt/c/Users/eyamr/Downloads$ source \"$HOME\"/my_env/bin/activate\n",
    "(my_env) eyamrog@Rog-ASUS:/mnt/c/Users/eyamr/Downloads$ bash formats.sh\n",
    "--- sas/sas/corr.txt ---\n",
    "--- sas/word_labels_format.sas ---"
   ]
  },
  {
   "cell_type": "markdown",
   "id": "71cb5b2a-e203-4b3e-80a9-86b10fc0253c",
   "metadata": {},
   "source": [
    "## Processing the statistical procedures on SAS"
   ]
  },
  {
   "cell_type": "markdown",
   "id": "2ddc9cd8-cd80-41d2-8209-f0a363fd9ab2",
   "metadata": {},
   "source": [
    "- Log in to your [SAS OnDemand for Academics](https://welcome.oda.sas.com/) account\n",
    "- Proceed as indicated in this [video tutorial](https://youtu.be/I3u9zD3jyOA?si=68uIKVc2iusGG2KY)"
   ]
  },
  {
   "cell_type": "markdown",
   "id": "7ed501c0-f6b1-4050-a4eb-a486bb73c036",
   "metadata": {},
   "source": [
    "## Processing `examples`"
   ]
  },
  {
   "cell_type": "markdown",
   "id": "96cef7d2-d981-4d52-b340-3c55ffe0699a",
   "metadata": {},
   "source": [
    "Purpose: Extract examples for analysis.\n",
    "- Input\n",
    "    - `sas/output_\"$project\"/loadtable.html`\n",
    "    - `sas/output_\"$project\"/\"$project\"_scores.tsv`\n",
    "    - `sas/output_\"$project\"/\"$project\"_scores_only.tsv`\n",
    "- Output\n",
    "    - `examples/factors`\n",
    "    - `example files`"
   ]
  },
  {
   "cell_type": "raw",
   "id": "3cbf820c-016d-4940-940c-82a587f2c22b",
   "metadata": {},
   "source": [
    "(my_env) eyamrog@Rog-ASUS:/mnt/c/Users/eyamr/Downloads$ bash examples.sh\n",
    "6780\n",
    "1246\n",
    "698\n",
    "123\n",
    "--- examples f1pos ---\n",
    "--- factor 1 pos # 000001 ---\n",
    "tr: warning: an unescaped backslash at end of string is not portable\n",
    "--- factor 1 pos # 000002 ---\n",
    "tr: warning: an unescaped backslash at end of string is not portable\n",
    "--- factor 1 pos # 000003 ---\n",
    "tr: warning: an unescaped backslash at end of string is not portable\n",
    "--- factor 1 pos # 000004 ---\n",
    "tr: warning: an unescaped backslash at end of string is not portable\n",
    "--- factor 1 pos # 000005 ---\n",
    "tr: warning: an unescaped backslash at end of string is not portable\n",
    "<ommitted> "
   ]
  },
  {
   "cell_type": "markdown",
   "id": "cd38617b-0487-4ba2-b619-d9b78aba9f2c",
   "metadata": {},
   "source": [
    "## Results"
   ]
  },
  {
   "cell_type": "markdown",
   "id": "cf501e4a-1193-4999-bdc0-88c08d2840f7",
   "metadata": {},
   "source": [
    "Right-click on the link and choose `Save link as` to download the corresponding file."
   ]
  },
  {
   "cell_type": "markdown",
   "id": "4e73ba45-9d6c-4578-b14e-c80c3ccaafe4",
   "metadata": {},
   "source": [
    "- [CL_St1_Ph3_INRS_Results.tar.gz](https://laelgelcinrs.s3.sa-east-1.amazonaws.com/CL_St1_Ph3_INRS_Results.tar.gz)"
   ]
  },
  {
   "cell_type": "code",
   "execution_count": null,
   "id": "bb169464-4f29-4513-b272-46f201deff17",
   "metadata": {},
   "outputs": [],
   "source": []
  }
 ],
 "metadata": {
  "kernelspec": {
   "display_name": "my_env",
   "language": "python",
   "name": "my_env"
  },
  "language_info": {
   "codemirror_mode": {
    "name": "ipython",
    "version": 3
   },
   "file_extension": ".py",
   "mimetype": "text/x-python",
   "name": "python",
   "nbconvert_exporter": "python",
   "pygments_lexer": "ipython3",
   "version": "3.12.3"
  }
 },
 "nbformat": 4,
 "nbformat_minor": 5
}
